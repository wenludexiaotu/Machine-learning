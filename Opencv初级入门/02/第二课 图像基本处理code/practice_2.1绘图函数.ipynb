{
 "cells": [
  {
   "cell_type": "raw",
   "id": "a2ae3633",
   "metadata": {},
   "source": [
    "1、绘制线段"
   ]
  },
  {
   "cell_type": "code",
   "execution_count": 4,
   "id": "d97b5fce",
   "metadata": {},
   "outputs": [],
   "source": [
    "import numpy as np\n",
    "import cv2\n",
    "\n",
    "#创建黑色背景图\n",
    "img=np.zeros((512,512,3),np.uint8)\n",
    "cv2.imshow('img',img)\n",
    "cv2.waitKey(0)\n",
    "\n",
    "#绘制一条线段\n",
    "cv2.line(img,(0,0),(500,500),(0,0,255),5)\n",
    "#背景图，起点，终点，线段颜色，线宽\n",
    "cv2.imshow('example1',img)\n",
    "cv2.waitKey(0)\n",
    "cv2.destroyAllWindows()"
   ]
  },
  {
   "cell_type": "raw",
   "id": "379c4567",
   "metadata": {},
   "source": [
    "2、绘制矩形"
   ]
  },
  {
   "cell_type": "code",
   "execution_count": 6,
   "id": "b6f02d7c",
   "metadata": {},
   "outputs": [],
   "source": [
    "import numpy as np\n",
    "import cv2\n",
    "\n",
    "img=np.zeros((512,512,3),np.uint8)\n",
    "cv2.rectangle(img,(384,0),(510,128),(0,255,255),3)\n",
    "#背景图，起点，终点，线段颜色，线宽\n",
    "cv2.imshow('example2',img)\n",
    "cv2.waitKey(0)\n",
    "cv2.destroyAllWindows()"
   ]
  },
  {
   "cell_type": "raw",
   "id": "0a847c5c",
   "metadata": {},
   "source": [
    "3、绘制圆"
   ]
  },
  {
   "cell_type": "code",
   "execution_count": 9,
   "id": "c605050f",
   "metadata": {},
   "outputs": [],
   "source": [
    "import numpy as np\n",
    "import cv2\n",
    "\n",
    "img=np.zeros((512,512,3),np.uint8)\n",
    "cv2.circle(img,(447,63),63,(0,0,255),-1)\n",
    "#背景图，圆心，半径，线段颜色，填充\n",
    "cv2.imshow('example3',img)\n",
    "cv2.waitKey(0)\n",
    "cv2.destroyAllWindows()"
   ]
  },
  {
   "cell_type": "raw",
   "id": "cd46d844",
   "metadata": {},
   "source": [
    "4、绘制椭圆"
   ]
  },
  {
   "cell_type": "code",
   "execution_count": 13,
   "id": "2472986f",
   "metadata": {},
   "outputs": [],
   "source": [
    "import numpy as np\n",
    "import cv2\n",
    "\n",
    "img=np.zeros((512,512,3),np.uint8)\n",
    "cv2.ellipse(img,(256,256),(100,50),0,30,180,(255,0,0),-1)\n",
    "#背景图，中心点，长、短轴，旋转角，起始，终止\n",
    "# cv2.imshow('example4',img)\n",
    "\n",
    "winname='ellipse'\n",
    "cv2.namedWindow(winname)\n",
    "cv2.imshow(winname,img)\n",
    "cv2.waitKey(0)\n",
    "cv2.destroyAllWindows()"
   ]
  },
  {
   "cell_type": "raw",
   "id": "40f6aade",
   "metadata": {},
   "source": [
    "5、绘制多边形"
   ]
  },
  {
   "cell_type": "code",
   "execution_count": 16,
   "id": "4b416c22",
   "metadata": {},
   "outputs": [],
   "source": [
    "import numpy as np\n",
    "import cv2\n",
    "\n",
    "img=np.zeros((512,512,3),np.uint8)\n",
    "#定义四个顶点坐标\n",
    "pts=np.array([[10, 5],  [50, 10], [70, 20], [20, 30]])\n",
    "pts = pts.reshape((-1, 1, 2))\n",
    "cv2.polylines(img, [pts], True, (0, 255, 255))\n",
    "#背景图，点对，True:线段闭合Fale:线段保留，颜色，填充值\n",
    "cv2.imshow('img',img)\n",
    "cv2.waitKey(0)\n",
    "cv2.destroyAllWindows()"
   ]
  },
  {
   "cell_type": "raw",
   "id": "ccce631e",
   "metadata": {},
   "source": [
    "6、添加文字"
   ]
  },
  {
   "cell_type": "code",
   "execution_count": 18,
   "id": "d3a0ff39",
   "metadata": {},
   "outputs": [],
   "source": [
    "import numpy as np\n",
    "import cv2\n",
    "\n",
    "img=np.zeros((512,512,3),np.uint8)\n",
    "font=cv2.FONT_HERSHEY_SIMPLEX\n",
    "cv2.putText(img,'OpenCV',(50,200), font, 3,(0,255,255),5)\n",
    "#背景图，文字，起点，字体\n",
    "cv2.imshow('img',img)\n",
    "cv2.waitKey(0)\n",
    "cv2.destroyAllWindows()"
   ]
  },
  {
   "cell_type": "code",
   "execution_count": null,
   "id": "41cdf54b",
   "metadata": {},
   "outputs": [],
   "source": []
  }
 ],
 "metadata": {
  "kernelspec": {
   "display_name": "Python 3 (ipykernel)",
   "language": "python",
   "name": "python3"
  },
  "language_info": {
   "codemirror_mode": {
    "name": "ipython",
    "version": 3
   },
   "file_extension": ".py",
   "mimetype": "text/x-python",
   "name": "python",
   "nbconvert_exporter": "python",
   "pygments_lexer": "ipython3",
   "version": "3.9.7"
  }
 },
 "nbformat": 4,
 "nbformat_minor": 5
}
