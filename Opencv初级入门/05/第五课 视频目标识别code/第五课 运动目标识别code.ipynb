{
 "cells": [
  {
   "cell_type": "code",
   "execution_count": null,
   "metadata": {},
   "outputs": [],
   "source": []
  },
  {
   "cell_type": "markdown",
   "metadata": {},
   "source": [
    "1.调用摄像头"
   ]
  },
  {
   "cell_type": "code",
   "execution_count": 1,
   "metadata": {},
   "outputs": [],
   "source": [
    "import numpy as np\n",
    "import cv2\n",
    "cap = cv2.VideoCapture(0)\n",
    "while(True):\n",
    "    #获取一帧帧图像\n",
    "    ret, frame = cap.read()\n",
    "    #转化为灰度图\n",
    "    #gray = cv2.cvtColor(frame, cv2.COLOR_BGR2GRAY)\n",
    "    cv2.imshow('frame',frame)\n",
    "    #按下“q”键停止\n",
    "    if cv2.waitKey(1) & 0xFF == ord('q'):\n",
    "        break\n",
    "cap.release()\n",
    "cv2.destroyAllWindows()\n"
   ]
  },
  {
   "cell_type": "markdown",
   "metadata": {},
   "source": [
    "2.保存视频"
   ]
  },
  {
   "cell_type": "code",
   "execution_count": 2,
   "metadata": {
    "collapsed": true
   },
   "outputs": [],
   "source": [
    "import cv2\n",
    "\n",
    "#调用摄像头函数cv2.VideoCapture，参数0：系统摄像头\n",
    "cap = cv2.VideoCapture(0)\n",
    "#创建编码方式\n",
    "#mp4:'X','V','I','D'avi:'M','J','P','G'或'P','I','M','1' flv:'F','L','V','1'\n",
    "fourcc = cv2.VideoWriter_fourcc('F','L','V','1')\n",
    "\n",
    "#创建VideoWriter对象\n",
    "out = cv2.VideoWriter('output_1.flv',fourcc, 20.0, (640,480))\n",
    "#创建循环结构进行连续读写\n",
    "while(cap.isOpened()):\n",
    "    ret, frame = cap.read()\n",
    "    if ret==True:\n",
    "        out.write(frame)\n",
    "        cv2.imshow('frame',frame)\n",
    "        if cv2.waitKey(1) & 0xFF == ord('q'):  \n",
    "            break\n",
    "    else:\n",
    "        break\n",
    "cap.release()\n",
    "out.release()\n",
    "cv2.destroyAllWindows()"
   ]
  },
  {
   "cell_type": "markdown",
   "metadata": {},
   "source": [
    "3.修改视频格式"
   ]
  },
  {
   "cell_type": "code",
   "execution_count": 1,
   "metadata": {},
   "outputs": [
    {
     "name": "stderr",
     "output_type": "stream",
     "text": [
      "C:\\Software\\Anaconda3\\lib\\site-packages\\numpy\\_distributor_init.py:32: UserWarning: loaded more than 1 DLL from .libs:\n",
      "C:\\Software\\Anaconda3\\lib\\site-packages\\numpy\\.libs\\libopenblas.IPBC74C7KURV7CB2PKT5Z5FNR3SIBV4J.gfortran-win_amd64.dll\n",
      "C:\\Software\\Anaconda3\\lib\\site-packages\\numpy\\.libs\\libopenblas.PYQHXLVVQ7VESDPUVUADXEVJOBGHJPAY.gfortran-win_amd64.dll\n",
      "  stacklevel=1)\n"
     ]
    },
    {
     "name": "stdout",
     "output_type": "stream",
     "text": [
      "20.0\n",
      "640\n",
      "480\n"
     ]
    }
   ],
   "source": [
    "import numpy as np\n",
    "import cv2\n",
    "\n",
    "cap = cv2.VideoCapture('output_1.flv')\n",
    "fourcc = cv2.VideoWriter_fourcc('M','J','P','G')\n",
    "fps = cap.get(cv2.CAP_PROP_FPS)\n",
    "print(fps)\n",
    "\n",
    "\n",
    "# 视频图像的宽度\n",
    "frame_width = int(cap.get(cv2.CAP_PROP_FRAME_WIDTH))\n",
    "# 视频图像的长度\n",
    "frame_height = int(cap.get(cv2.CAP_PROP_FRAME_HEIGHT))\n",
    "print(frame_width)\n",
    "print(frame_height)\n",
    "#创建VideoWriter对象\n",
    "out = cv2.VideoWriter('output_1_new.mp4',fourcc, fps,(frame_width,frame_height))\n",
    "while(True):\n",
    "    ret, frame = cap.read()\n",
    "    if ret==True:\n",
    "        # 水平翻转\n",
    "        frame = cv2.flip(frame,1)\n",
    "        out.write(frame)\n",
    "        cv2.imshow('frame',frame)\n",
    "        if cv2.waitKey(25) & 0xff == ord('q'):\n",
    "            break\n",
    "    else:\n",
    "        break\n",
    "out.release()\n",
    "cap.release()\n",
    "cv2.destroyAllWindows()\n"
   ]
  },
  {
   "cell_type": "markdown",
   "metadata": {},
   "source": [
    "4.帧差法"
   ]
  },
  {
   "cell_type": "code",
   "execution_count": 3,
   "metadata": {},
   "outputs": [],
   "source": [
    "# 导入必要的软件包 \n",
    "import cv2 \n",
    " \n",
    "# 视频文件输入初始化 \n",
    "filename = \"move_detect.flv\" \n",
    "camera = cv2.VideoCapture(filename) \n",
    " \n",
    "# 视频文件输出参数设置 \n",
    "out_fps = 12.0  # 输出文件的帧率 \n",
    "fourcc = cv2.VideoWriter_fourcc('M', 'P', '4', '2') \n",
    "out1 = cv2.VideoWriter('E:/video/v1.avi', fourcc, out_fps, (500, 400)) \n",
    "out2 = cv2.VideoWriter('E:/video/v2.avi', fourcc, out_fps, (500, 400)) \n",
    " \n",
    "# 初始化当前帧的前帧 \n",
    "lastFrame = None \n",
    " \n",
    "# 遍历视频的每一帧 \n",
    "while camera.isOpened(): \n",
    " \n",
    "    # 读取下一帧 \n",
    "    (ret, frame) = camera.read() \n",
    " \n",
    "    # 如果不能抓取到一帧，说明我们到了视频的结尾 \n",
    "    if not ret: \n",
    "        break \n",
    " \n",
    "    # 调整该帧的大小 \n",
    "    frame = cv2.resize(frame, (500, 400), interpolation=cv2.INTER_CUBIC) \n",
    " \n",
    "    # 如果第一帧是None，对其进行初始化 \n",
    "    if lastFrame is None: \n",
    "        lastFrame = frame \n",
    "        continue \n",
    " \n",
    "    # 计算当前帧和前帧的不同 \n",
    "    frameDelta = cv2.absdiff(lastFrame, frame) \n",
    " \n",
    "    # 当前帧设置为下一帧的前帧 \n",
    "    lastFrame = frame.copy() \n",
    " \n",
    "    # 结果转为灰度图 \n",
    "    thresh = cv2.cvtColor(frameDelta, cv2.COLOR_BGR2GRAY) \n",
    " \n",
    "    # 图像二值化 \n",
    "    thresh = cv2.threshold(thresh, 25, 255, cv2.THRESH_BINARY)[1] \n",
    " \n",
    "    ''' \n",
    "    #去除图像噪声,先腐蚀再膨胀(形态学开运算) \n",
    "    thresh=cv2.erode(thresh,None,iterations=1) \n",
    "    thresh = cv2.dilate(thresh, None, iterations=2) \n",
    "    ''' \n",
    " \n",
    "    # 阀值图像上的轮廓位置 \n",
    "    cnts, hierarchy = cv2.findContours(thresh.copy(), cv2.RETR_EXTERNAL, cv2.CHAIN_APPROX_SIMPLE) \n",
    "#     contours , hierarchy = cv2.findContours(thresh,cv2.RETR_TREE,cv2.CHAIN_APPROX_SIMPLE)\n",
    " \n",
    "    # 遍历轮廓 \n",
    "    for c in cnts: \n",
    "        # 忽略小轮廓，排除误差 \n",
    "        if cv2.contourArea(c) < 300: \n",
    "            continue \n",
    " \n",
    "        # 计算轮廓的边界框，在当前帧中画出该框 \n",
    "        (x, y, w, h) = cv2.boundingRect(c) \n",
    "        cv2.rectangle(frame, (x, y), (x + w, y + h), (0, 255, 0), 2) \n",
    " \n",
    "    # 显示当前帧 \n",
    "    cv2.imshow(\"frame\", frame) \n",
    "    cv2.imshow(\"frameDelta\", frameDelta) \n",
    "    cv2.imshow(\"thresh\", thresh) \n",
    " \n",
    "    # 保存视频 \n",
    "    out1.write(frame) \n",
    "    out2.write(frameDelta) \n",
    " \n",
    "    # 如果q键被按下，跳出循环 \n",
    "    if cv2.waitKey(20) & 0xFF == ord('q'): \n",
    "        break \n",
    "# 清理资源并关闭打开的窗口 \n",
    "out1.release() \n",
    "out2.release() \n",
    "camera.release() \n",
    "cv2.destroyAllWindows()"
   ]
  },
  {
   "cell_type": "markdown",
   "metadata": {},
   "source": [
    "5.光流法"
   ]
  },
  {
   "cell_type": "code",
   "execution_count": null,
   "metadata": {},
   "outputs": [],
   "source": [
    "import cv2 as cv\n",
    "import numpy as np\n",
    "\n",
    "es = cv.getStructuringElement(cv.MORPH_ELLIPSE, (10, 10))\n",
    "kernel = cv.getStructuringElement(cv.MORPH_ELLIPSE, (3, 3))\n",
    "cap = cv.VideoCapture(\"move_detect.flv\")\n",
    "frame1 = cap.read()[1]\n",
    "prvs = cv.cvtColor(frame1, cv.COLOR_BGR2GRAY)\n",
    "hsv = np.zeros_like(frame1)\n",
    "hsv[..., 1] = 255\n",
    "\n",
    "# 视频文件输出参数设置\n",
    "out_fps = 12.0  # 输出文件的帧率\n",
    "fourcc = cv.VideoWriter_fourcc('M', 'P', '4', '2')\n",
    "sizes = (int(cap.get(cv.CAP_PROP_FRAME_WIDTH)), int(cap.get(cv.CAP_PROP_FRAME_HEIGHT)))\n",
    "out1 = cv.VideoWriter('E:/video/v6.avi', fourcc, out_fps, sizes)\n",
    "out2 = cv.VideoWriter('E:/video/v8.avi', fourcc, out_fps, sizes)\n",
    "\n",
    "while True:\n",
    "    (ret, frame2) = cap.read()\n",
    "    next = cv.cvtColor(frame2, cv.COLOR_BGR2GRAY)\n",
    "    flow = cv.calcOpticalFlowFarneback(prvs, next, None, 0.5, 3, 15, 3, 5, 1.2, 0)\n",
    "    mag, ang = cv.cartToPolar(flow[..., 0], flow[..., 1])\n",
    "    hsv[..., 0] = ang * 180 / np.pi / 2\n",
    "    hsv[..., 2] = cv.normalize(mag, None, 0, 255, cv.NORqM_MINMAX)\n",
    "\n",
    "    bgr = cv.cvtColor(hsv, cv.COLOR_HSV2BGR)\n",
    "\n",
    "    draw = cv.cvtColor(bgr, cv.COLOR_BGR2GRAY)\n",
    "    draw = cv.morphologyEx(draw, cv.MORPH_OPEN, kernel)\n",
    "    draw = cv.threshold(draw, 25, 255, cv.THRESH_BINARY)[1]\n",
    "\n",
    "    contours, hierarchy = cv.findContours(draw.copy(), cv.RETR_EXTERNAL, cv.CHAIN_APPROX_SIMPLE)\n",
    "\n",
    "    for c in contours:\n",
    "        if cv.contourArea(c) < 500:\n",
    "            continue\n",
    "        (x, y, w, h) = cv.boundingRect(c)\n",
    "        cv.rectangle(frame2, (x, y), (x + w, y + h), (255, 255, 0), 2)\n",
    "\n",
    "    cv.imshow('frame2', bgr)\n",
    "\n",
    "    cv.imshow('draw', draw)\n",
    "    cv.imshow('frame1', frame2)\n",
    "    out1.write(bgr)\n",
    "    out2.write(frame2)\n",
    "\n",
    "    k = cv.waitKey(20) & 0xff\n",
    "    if k == 27 or k == ord('q'):\n",
    "        break\n",
    "    elif k == ord('s'):\n",
    "        cv.imwrite('opticalfb.png', frame2)\n",
    "        cv.imwrite('opticalhsv.png', bgr)\n",
    "    prvs = next\n",
    "\n",
    "out1.release()\n",
    "out2.release()\n",
    "cap.release()\n",
    "cv.destroyAllWindows()"
   ]
  },
  {
   "cell_type": "markdown",
   "metadata": {},
   "source": [
    "6.背景减除法"
   ]
  },
  {
   "cell_type": "code",
   "execution_count": 2,
   "metadata": {},
   "outputs": [
    {
     "ename": "error",
     "evalue": "OpenCV(4.5.5) D:\\a\\opencv-python\\opencv-python\\opencv\\modules\\imgcodecs\\src\\loadsave.cpp:801: error: (-215:Assertion failed) !_img.empty() in function 'cv::imwrite'\n",
     "output_type": "error",
     "traceback": [
      "\u001b[1;31m---------------------------------------------------------------------------\u001b[0m",
      "\u001b[1;31merror\u001b[0m                                     Traceback (most recent call last)",
      "\u001b[1;32m~\\AppData\\Local\\Temp/ipykernel_17072/1575575827.py\u001b[0m in \u001b[0;36m<module>\u001b[1;34m\u001b[0m\n\u001b[0;32m     34\u001b[0m \u001b[1;32mwhile\u001b[0m \u001b[1;32mTrue\u001b[0m\u001b[1;33m:\u001b[0m\u001b[1;33m\u001b[0m\u001b[1;33m\u001b[0m\u001b[0m\n\u001b[0;32m     35\u001b[0m     \u001b[0mret\u001b[0m\u001b[1;33m,\u001b[0m \u001b[0mframe\u001b[0m \u001b[1;33m=\u001b[0m \u001b[0mcap\u001b[0m\u001b[1;33m.\u001b[0m\u001b[0mread\u001b[0m\u001b[1;33m(\u001b[0m\u001b[1;33m)\u001b[0m\u001b[1;33m\u001b[0m\u001b[1;33m\u001b[0m\u001b[0m\n\u001b[1;32m---> 36\u001b[1;33m     \u001b[0mcv2\u001b[0m\u001b[1;33m.\u001b[0m\u001b[0mimwrite\u001b[0m\u001b[1;33m(\u001b[0m\u001b[1;34m\"input.png\"\u001b[0m\u001b[1;33m,\u001b[0m \u001b[0mframe\u001b[0m\u001b[1;33m)\u001b[0m\u001b[1;33m\u001b[0m\u001b[1;33m\u001b[0m\u001b[0m\n\u001b[0m\u001b[0;32m     37\u001b[0m     \u001b[0mcv2\u001b[0m\u001b[1;33m.\u001b[0m\u001b[0mimshow\u001b[0m\u001b[1;33m(\u001b[0m\u001b[1;34m'input'\u001b[0m\u001b[1;33m,\u001b[0m \u001b[0mframe\u001b[0m\u001b[1;33m)\u001b[0m\u001b[1;33m\u001b[0m\u001b[1;33m\u001b[0m\u001b[0m\n\u001b[0;32m     38\u001b[0m     \u001b[0mresult\u001b[0m\u001b[1;33m,\u001b[0m \u001b[0mm_\u001b[0m \u001b[1;33m=\u001b[0m \u001b[0mgetPerson\u001b[0m\u001b[1;33m(\u001b[0m\u001b[0mframe\u001b[0m\u001b[1;33m)\u001b[0m\u001b[1;33m\u001b[0m\u001b[1;33m\u001b[0m\u001b[0m\n",
      "\u001b[1;31merror\u001b[0m: OpenCV(4.5.5) D:\\a\\opencv-python\\opencv-python\\opencv\\modules\\imgcodecs\\src\\loadsave.cpp:801: error: (-215:Assertion failed) !_img.empty() in function 'cv::imwrite'\n"
     ]
    }
   ],
   "source": [
    "import numpy as np\n",
    "import cv2\n",
    "\n",
    "# read the video\n",
    "cap = cv2.VideoCapture('move_detect.flv')\n",
    "\n",
    "# create the subtractor\n",
    "fgbg = cv2.createBackgroundSubtractorMOG2(\n",
    "    history=500, varThreshold=100, detectShadows=False)\n",
    "\n",
    "\n",
    "def getPerson(image, opt=1):\n",
    "\n",
    "    # get the front mask\n",
    "    mask = fgbg.apply(frame)\n",
    "\n",
    "    # eliminate the noise\n",
    "    line = cv2.getStructuringElement(cv2.MORPH_RECT, (1, 5), (-1, -1))\n",
    "    mask = cv2.morphologyEx(mask, cv2.MORPH_OPEN, line)\n",
    "    cv2.imshow(\"mask\", mask)\n",
    "\n",
    "    # find the max area contours\n",
    "    contours, hierarchy = cv2.findContours(mask, cv2.RETR_EXTERNAL, cv2.CHAIN_APPROX_SIMPLE)\n",
    "    for c in range(len(contours)):\n",
    "        area = cv2.contourArea(contours[c])\n",
    "        if area < 150:\n",
    "            continue\n",
    "        rect = cv2.minAreaRect(contours[c])\n",
    "        cv2.ellipse(image, rect, (0, 255, 0), 2, 8)\n",
    "        cv2.circle(image, (np.int32(rect[0][0]), np.int32(rect[0][1])), 2, (255, 0, 0), 2, 8, 0)\n",
    "    return image, mask\n",
    "\n",
    "\n",
    "while True:\n",
    "    ret, frame = cap.read()\n",
    "    cv2.imwrite(\"input.png\", frame)\n",
    "    cv2.imshow('input', frame)\n",
    "    result, m_ = getPerson(frame)\n",
    "    cv2.imshow('result', result)\n",
    "    k = cv2.waitKey(20)&0xff\n",
    "    if k == 27:\n",
    "        cv2.imwrite(\"result.png\", result)\n",
    "        cv2.imwrite(\"mask.png\", m_)\n",
    "\n",
    "        break\n",
    "cap.release()\n",
    "cv2.destroyAllWindows()"
   ]
  },
  {
   "cell_type": "code",
   "execution_count": null,
   "metadata": {
    "collapsed": true
   },
   "outputs": [],
   "source": []
  }
 ],
 "metadata": {
  "kernelspec": {
   "display_name": "Python 3 (ipykernel)",
   "language": "python",
   "name": "python3"
  },
  "language_info": {
   "codemirror_mode": {
    "name": "ipython",
    "version": 3
   },
   "file_extension": ".py",
   "mimetype": "text/x-python",
   "name": "python",
   "nbconvert_exporter": "python",
   "pygments_lexer": "ipython3",
   "version": "3.9.7"
  }
 },
 "nbformat": 4,
 "nbformat_minor": 2
}
